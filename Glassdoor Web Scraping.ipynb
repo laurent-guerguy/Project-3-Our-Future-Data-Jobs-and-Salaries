{
 "cells": [
  {
   "cell_type": "code",
   "execution_count": 21,
   "metadata": {},
   "outputs": [],
   "source": [
    "import pandas as pd"
   ]
  },
  {
   "cell_type": "code",
   "execution_count": 1,
   "metadata": {},
   "outputs": [
    {
     "data": {
      "text/plain": [
       "b'<!DOCTYPE html><html><head><title>Apache Tomcat - Error report</title><style type=\"text/css\">H1 {font-family:Tahoma,Arial,sans-serif;color:white;background-color:#525D76;font-size:22px;} H2 {font-family:Tahoma,Arial,sans-serif;color:white;background-color:#525D76;font-size:16px;} H3 {font-family:Tahoma,Arial,sans-serif;color:white;background-color:#525D76;font-size:14px;} BODY {font-family:Tahoma,Arial,sans-serif;color:black;background-color:white;} B {font-family:Tahoma,Arial,sans-serif;color:white;background-color:#525D76;} P {font-family:Tahoma,Arial,sans-serif;background:white;color:black;font-size:12px;}A {color : black;}A.name {color : black;}.line {height: 1px; background-color: #525D76; border: none;}</style> \\n<!-- START: NODE PROXY INSERTS -->\\n<link href=\"/salaries/static/gd-salary-srch.bundle.css?v=16994c47fc665d3be7b6\" rel=\"stylesheet\" media=\"all\"/>\\n<script defer type=\"text/javascript\" src=\"https://unpkg.com/react@16.3.2/umd/react.production.min.js\"></script>\\n<script defer type=\"text/javascript\" src=\"https://unpkg.com/react-dom@16.3.2/umd/react-dom.production.min.js\"></script>\\n<script defer type=\"text/javascript\" src=\"https://unpkg.com/prop-types@15.6.2/prop-types.min.js\"></script>\\n<script defer type=\"text/javascript\" src=\"/salaries/static/js/gd-vendor.bundle.js?v=16994c47fc665d3be7b6\"></script>\\n<script defer type=\"text/javascript\" src=\"/salaries/static/js/gd-salary-srch.bundle.js?v=16994c47fc665d3be7b6\"></script>\\n<!-- END: NODE PROXY INSERTS -->\\n</head><body><h1>HTTP Status 403 - Bots not allowed</h1><div class=\"line\"></div><p><b>type</b> Status report</p><p><b>message</b> <u>Bots not allowed</u></p><p><b>description</b> <u>Access to the specified resource has been forbidden.</u></p><hr class=\"line\"><h3>Apache Tomcat</h3></body></html>'"
      ]
     },
     "execution_count": 1,
     "metadata": {},
     "output_type": "execute_result"
    }
   ],
   "source": [
    "# import library and scrape the web page for Glassdoor Data Analyst in Spain\n",
    "import requests\n",
    "\n",
    "url = 'https://www.glassdoor.com/Salaries/spain-data-analyst-salary-SRCH_IL.0,5_IN219_KO6,18.htm'\n",
    "html = requests.get(url).content\n",
    "html[0:10000]"
   ]
  },
  {
   "cell_type": "code",
   "execution_count": 2,
   "metadata": {},
   "outputs": [
    {
     "data": {
      "text/plain": [
       "403"
      ]
     },
     "execution_count": 2,
     "metadata": {},
     "output_type": "execute_result"
    }
   ],
   "source": [
    "# Get the status message we get from the page\n",
    "requests.get(url).status_code\n",
    "\n",
    "# It is forbidden"
   ]
  },
  {
   "cell_type": "code",
   "execution_count": 3,
   "metadata": {},
   "outputs": [
    {
     "data": {
      "text/plain": [
       "b'<!DOCTYPE html>\\n<html lang=\\'en\\' xmlns:fb=\\'http://www.facebook.com/2008/fbml\\' xmlns:og=\\'http://opengraph.org/schema/\\'\\n      class=\\'flex\\'>\\n\\n<head prefix=\\'og: http://ogp.me/ns# fb: http://ogp.me/ns/fb# glassdoor: http://ogp.me/ns/fb/glassdoor#\\'><!-- because the getter clears the value --><script>\\n\\twindow.gdGlobals = window.gdGlobals ||\\n\\t\\t[{\\n\\t\\t\\t\\'analyticsId\\':                      \"UA-2595786-1\",\\n\\n\\t\\t\\t\\n\\t\\t\\t\\'analyticsUrl\\':                     \"/search/salaries?cat=Salaries&o=Data+Analyst&l=Spain+%28N%3A+219%29\",\\n\\n\\t\\t\\t\\'deferredScriptType\\':               \"text/x-deferred-js\",\\n\\t\\t\\t\\'accessDeniedRedirectUrl\\':          \\'\\',\\n\\t\\t\\t\\'locale\\': \\t\\t\\t\\t\\t\\t\\t\\'en-US\\',\\n\\t\\t\\t\\'env\\': \\'prod\\',\\n\\n\\n\\t\\t\\t\\'device\\':       {\\n\\n\\t\\t\\t\\t\\t\\t\\t\\t\\n\\t\\t\\t\\t\\t\\t\\t\\t\\'handheld\\':     false,\\n\\n\\t\\t\\t\\t\\t\\t\\t\\t\\n\\t\\t\\t\\t\\t\\t\\t\\t\\'tablet\\':       \\tfalse,\\n\\t\\t\\t\\t\\t\\t\\t\\t\\'deviceTypeId\\': \\t1,\\n\\t\\t\\t\\t\\t\\t\\t\\t\\'platformTypeId\\': \\t3,\\n\\t\\t\\t\\t\\t\\t\\t\\t\\'viewTypeId\\': \\t\\t4\\n\\t\\t\\t\\t\\t\\t\\t},\\n\\t\\t\\t\\'page\\':         {\\n\\t\\t\\t\\t\\t\\t\\t\\t\\n\\t\\t\\t\\t\\t\\t\\t\\t\\'domain\\':       \"www.glassdoor.com\",\\n\\t\\t\\t\\t\\t\\t\\t\\t\\'domainId\\':\\t\\t1,\\n\\n\\t\\t\\t\\t\\t\\t\\t\\t\\n\\t\\t\\t\\t\\t\\t\\t\\t\\'domainSuffix\\': \"\",\\n\\n'"
      ]
     },
     "execution_count": 3,
     "metadata": {},
     "output_type": "execute_result"
    }
   ],
   "source": [
    "# Scrape the Data Analyst for Spain Glassdoor webpage using a User Agent (by defining a User Agent you say to the\n",
    "# you visit that you come from a specific computer using a specific internet browser)\n",
    "url = 'https://www.glassdoor.com/Salaries/spain-data-analyst-salary-SRCH_IL.0,5_IN219_KO6,18.htm'\n",
    "headers = {'User-Agent': 'Mozilla/5.0 (X11; Linux x86_64) AppleWebKit/537.36 (KHTML, like Gecko) Chrome/75.0.3770.100 Safari/537.36'}\n",
    "html = requests.get(url, headers=headers).content\n",
    "html[0:1000]"
   ]
  },
  {
   "cell_type": "code",
   "execution_count": 4,
   "metadata": {},
   "outputs": [
    {
     "data": {
      "text/plain": [
       "200"
      ]
     },
     "execution_count": 4,
     "metadata": {},
     "output_type": "execute_result"
    }
   ],
   "source": [
    "# Checking status code\n",
    "requests.get(url, headers=headers).status_code\n",
    "\n",
    "# Successful scraping"
   ]
  },
  {
   "cell_type": "code",
   "execution_count": 5,
   "metadata": {},
   "outputs": [],
   "source": [
    "# Import My Beautiful Soup to select the part of the text that interests us\n",
    "from bs4 import BeautifulSoup"
   ]
  },
  {
   "cell_type": "code",
   "execution_count": 7,
   "metadata": {},
   "outputs": [],
   "source": [
    "# Make the text more readable\n",
    "soup = BeautifulSoup(html, \"lxml\")"
   ]
  },
  {
   "cell_type": "code",
   "execution_count": 8,
   "metadata": {},
   "outputs": [
    {
     "data": {
      "text/plain": [
       "[<p class=\"occMedianModule__SeoTextStyle__description tightVert\"><span>The national average salary for a Data Analyst is €31,195  in Spain. Filter by location to see Data Analyst salaries in your area. Salary estimates are based on 23 salaries submitted anonymously to Glassdoor by Data Analyst employees.</span></p>]"
      ]
     },
     "execution_count": 8,
     "metadata": {},
     "output_type": "execute_result"
    }
   ],
   "source": [
    "# Extract the text containing the job, average salary and country\n",
    "salary_text = soup.find_all(\"p\", class_=\"occMedianModule__SeoTextStyle__description tightVert\")\n",
    "salary_text"
   ]
  },
  {
   "cell_type": "code",
   "execution_count": 9,
   "metadata": {},
   "outputs": [],
   "source": [
    "# Convert the list to a string\n",
    "salary_text = str(salary_text)"
   ]
  },
  {
   "cell_type": "code",
   "execution_count": 10,
   "metadata": {},
   "outputs": [
    {
     "name": "stdout",
     "output_type": "stream",
     "text": [
      "['€31,195']\n"
     ]
    }
   ],
   "source": [
    "# Import Regex functionality\n",
    "import re\n",
    "\n",
    "# Look for the average salary in the text\n",
    "salary_list = re.findall(\"€\\S*\", salary_text)\n",
    "print(salary_list)"
   ]
  },
  {
   "cell_type": "code",
   "execution_count": 11,
   "metadata": {},
   "outputs": [
    {
     "name": "stdout",
     "output_type": "stream",
     "text": [
      "['Data Analyst']\n"
     ]
    }
   ],
   "source": [
    "# Look for the job name in the text\n",
    "job_name_list = re.findall(\"(?<=for\\sa\\s)\\w+\\s\\w+\", salary_text)\n",
    "print(job_name_list)"
   ]
  },
  {
   "cell_type": "code",
   "execution_count": 12,
   "metadata": {},
   "outputs": [
    {
     "name": "stdout",
     "output_type": "stream",
     "text": [
      "['Spain']\n"
     ]
    }
   ],
   "source": [
    "# Look for the country in the text\n",
    "country_name_list = re.findall(\"\\w+(?=\\.\\sFilter)\", salary_text)\n",
    "print(country_name_list)"
   ]
  },
  {
   "cell_type": "code",
   "execution_count": 13,
   "metadata": {},
   "outputs": [],
   "source": [
    "# Create an empty list to collect the values of job title, country and salary\n",
    "salary_info_list = []"
   ]
  },
  {
   "cell_type": "code",
   "execution_count": 14,
   "metadata": {},
   "outputs": [
    {
     "name": "stdout",
     "output_type": "stream",
     "text": [
      "['Data Analyst', 'Spain', '€31,195']\n"
     ]
    }
   ],
   "source": [
    "# Append the three values of job title, country and salary to the list and print it\n",
    "salary_info_list.append(job_name_list[0])\n",
    "salary_info_list.append(country_name_list[0])\n",
    "salary_info_list.append(salary_list[0])\n",
    "# Print the result\n",
    "print(salary_info_list)"
   ]
  },
  {
   "cell_type": "code",
   "execution_count": 15,
   "metadata": {},
   "outputs": [],
   "source": [
    "# Create a function that extracts the job name, country and salary (using all steps above) and put it in a list\n",
    "import requests\n",
    "import re\n",
    "from bs4 import BeautifulSoup\n",
    "\n",
    "def extract_glassdoor_info(url):\n",
    "    headers = {'User-Agent': 'Mozilla/5.0 (X11; Linux x86_64) AppleWebKit/537.36 (KHTML, like Gecko) Chrome/75.0.3770.100 Safari/537.36'}\n",
    "    html = requests.get(url, headers=headers).content\n",
    "    soup = BeautifulSoup(html, \"lxml\")\n",
    "    salary_text = soup.find_all(\"p\", class_=\"occMedianModule__SeoTextStyle__description tightVert\")\n",
    "    salary_text = str(salary_text)\n",
    "    salary_list = re.findall(\"€\\S*\", salary_text)\n",
    "    job_name_list = re.findall(\"(?<=for\\sa\\s)\\w+\\s\\w+\", salary_text)\n",
    "    country_name_list = re.findall(\"\\w+(?=\\.\\sFilter)\", salary_text)\n",
    "    salary_info_list = []\n",
    "    salary_info_list.append(job_name_list[0])\n",
    "    salary_info_list.append(country_name_list[0])\n",
    "    salary_info_list.append(salary_list[0])\n",
    "    return salary_info_list"
   ]
  },
  {
   "cell_type": "code",
   "execution_count": 16,
   "metadata": {},
   "outputs": [
    {
     "data": {
      "text/plain": [
       "['Data Analyst', 'Spain', '€31,195']"
      ]
     },
     "execution_count": 16,
     "metadata": {},
     "output_type": "execute_result"
    }
   ],
   "source": [
    "# Trying out the function\n",
    "url = \"https://www.glassdoor.com/Salaries/spain-data-analyst-salary-SRCH_IL.0,5_IN219_KO6,18.htm\"\n",
    "extract_glassdoor_info(url)"
   ]
  },
  {
   "cell_type": "code",
   "execution_count": 25,
   "metadata": {},
   "outputs": [],
   "source": [
    "countries_analyst = {\"Spain_Analyst\" : \"https://www.glassdoor.com/Salaries/spain-data-analyst-salary-SRCH_IL.0,5_IN219_KO6,18.htm\", \"Germany_Analyst\": \"https://www.glassdoor.com/Salaries/germany-data-analyst-salary-SRCH_IL.0,7_IN96_KO8,20.htm\", \"France_Analyst\": \"https://www.glassdoor.com/Salaries/france-data-analyst-salary-SRCH_IL.0,6_IN86_KO7,19.htm\", \"UK_Analyst\": \"https://www.glassdoor.com/Salaries/uk-data-analyst-salary-SRCH_IL.0,2_IN2_KO3,15.htm\", \"USA_Analyst\": \"https://www.glassdoor.com/Salaries/us-data-analyst-salary-SRCH_IL.0,2_IN1_KO3,15.htm\", \"Spain_Scientist\" : \"https://www.glassdoor.com/Salaries/spain-data-scientist-salary-SRCH_IL.0,5_IN219_KO6,20.htm\", \"Germany_Scientist\": \"https://www.glassdoor.com/Salaries/germany-data-scientist-salary-SRCH_IL.0,7_IN96_KO8,22.htm\", \"France_Scientist\": \"https://www.glassdoor.com/Salaries/france-data-scientist-salary-SRCH_IL.0,6_IN86_KO7,21.htm\", \"UK_Scientist\": \"https://www.glassdoor.com/Salaries/uk-data-scientist-salary-SRCH_IL.0,2_IN2_KO3,17.htm\", \"USA_Scientist\": \"https://www.glassdoor.com/Salaries/us-data-scientist-salary-SRCH_IL.0,2_IN1_KO3,17.htm\"}"
   ]
  },
  {
   "cell_type": "code",
   "execution_count": 26,
   "metadata": {},
   "outputs": [],
   "source": [
    "def analyst_wage(country):\n",
    "    return extract_glassdoor_info(countries_analyst[country])"
   ]
  },
  {
   "cell_type": "code",
   "execution_count": 27,
   "metadata": {},
   "outputs": [
    {
     "ename": "IndexError",
     "evalue": "list index out of range",
     "output_type": "error",
     "traceback": [
      "\u001b[1;31m---------------------------------------------------------------------------\u001b[0m",
      "\u001b[1;31mIndexError\u001b[0m                                Traceback (most recent call last)",
      "\u001b[1;32m<ipython-input-27-1c945c603666>\u001b[0m in \u001b[0;36m<module>\u001b[1;34m\u001b[0m\n\u001b[1;32m----> 1\u001b[1;33m \u001b[0mdf_jobs\u001b[0m \u001b[1;33m=\u001b[0m \u001b[0mpd\u001b[0m\u001b[1;33m.\u001b[0m\u001b[0mDataFrame\u001b[0m\u001b[1;33m(\u001b[0m\u001b[1;33m[\u001b[0m\u001b[1;33m(\u001b[0m\u001b[0mextract_glassdoor_info\u001b[0m\u001b[1;33m(\u001b[0m\u001b[0mcountries_analyst\u001b[0m\u001b[1;33m[\u001b[0m\u001b[0mi\u001b[0m\u001b[1;33m]\u001b[0m\u001b[1;33m)\u001b[0m\u001b[1;33m)\u001b[0m \u001b[1;32mfor\u001b[0m \u001b[0mi\u001b[0m \u001b[1;32min\u001b[0m \u001b[0mcountries_analyst\u001b[0m\u001b[1;33m]\u001b[0m\u001b[1;33m)\u001b[0m\u001b[1;33m\u001b[0m\u001b[1;33m\u001b[0m\u001b[0m\n\u001b[0m",
      "\u001b[1;32m<ipython-input-27-1c945c603666>\u001b[0m in \u001b[0;36m<listcomp>\u001b[1;34m(.0)\u001b[0m\n\u001b[1;32m----> 1\u001b[1;33m \u001b[0mdf_jobs\u001b[0m \u001b[1;33m=\u001b[0m \u001b[0mpd\u001b[0m\u001b[1;33m.\u001b[0m\u001b[0mDataFrame\u001b[0m\u001b[1;33m(\u001b[0m\u001b[1;33m[\u001b[0m\u001b[1;33m(\u001b[0m\u001b[0mextract_glassdoor_info\u001b[0m\u001b[1;33m(\u001b[0m\u001b[0mcountries_analyst\u001b[0m\u001b[1;33m[\u001b[0m\u001b[0mi\u001b[0m\u001b[1;33m]\u001b[0m\u001b[1;33m)\u001b[0m\u001b[1;33m)\u001b[0m \u001b[1;32mfor\u001b[0m \u001b[0mi\u001b[0m \u001b[1;32min\u001b[0m \u001b[0mcountries_analyst\u001b[0m\u001b[1;33m]\u001b[0m\u001b[1;33m)\u001b[0m\u001b[1;33m\u001b[0m\u001b[1;33m\u001b[0m\u001b[0m\n\u001b[0m",
      "\u001b[1;32m<ipython-input-15-5128f9dca367>\u001b[0m in \u001b[0;36mextract_glassdoor_info\u001b[1;34m(url)\u001b[0m\n\u001b[0;32m     16\u001b[0m     \u001b[0msalary_info_list\u001b[0m\u001b[1;33m.\u001b[0m\u001b[0mappend\u001b[0m\u001b[1;33m(\u001b[0m\u001b[0mjob_name_list\u001b[0m\u001b[1;33m[\u001b[0m\u001b[1;36m0\u001b[0m\u001b[1;33m]\u001b[0m\u001b[1;33m)\u001b[0m\u001b[1;33m\u001b[0m\u001b[1;33m\u001b[0m\u001b[0m\n\u001b[0;32m     17\u001b[0m     \u001b[0msalary_info_list\u001b[0m\u001b[1;33m.\u001b[0m\u001b[0mappend\u001b[0m\u001b[1;33m(\u001b[0m\u001b[0mcountry_name_list\u001b[0m\u001b[1;33m[\u001b[0m\u001b[1;36m0\u001b[0m\u001b[1;33m]\u001b[0m\u001b[1;33m)\u001b[0m\u001b[1;33m\u001b[0m\u001b[1;33m\u001b[0m\u001b[0m\n\u001b[1;32m---> 18\u001b[1;33m     \u001b[0msalary_info_list\u001b[0m\u001b[1;33m.\u001b[0m\u001b[0mappend\u001b[0m\u001b[1;33m(\u001b[0m\u001b[0msalary_list\u001b[0m\u001b[1;33m[\u001b[0m\u001b[1;36m0\u001b[0m\u001b[1;33m]\u001b[0m\u001b[1;33m)\u001b[0m\u001b[1;33m\u001b[0m\u001b[1;33m\u001b[0m\u001b[0m\n\u001b[0m\u001b[0;32m     19\u001b[0m     \u001b[1;32mreturn\u001b[0m \u001b[0msalary_info_list\u001b[0m\u001b[1;33m\u001b[0m\u001b[1;33m\u001b[0m\u001b[0m\n",
      "\u001b[1;31mIndexError\u001b[0m: list index out of range"
     ]
    }
   ],
   "source": [
    "df_jobs = pd.DataFrame([(extract_glassdoor_info(countries_analyst[i])) for i in countries_analyst])"
   ]
  },
  {
   "cell_type": "code",
   "execution_count": null,
   "metadata": {},
   "outputs": [],
   "source": [
    "df_jobs"
   ]
  },
  {
   "cell_type": "code",
   "execution_count": 28,
   "metadata": {},
   "outputs": [],
   "source": [
    "countries_scientist = {\"Spain_Scientist\" : \"https://www.glassdoor.com/Salaries/spain-data-scientist-salary-SRCH_IL.0,5_IN219_KO6,20.htm\", \"Germany_Scientist\": \"https://www.glassdoor.com/Salaries/germany-data-scientist-salary-SRCH_IL.0,7_IN96_KO8,22.htm\", \"France_Scientist\": \"https://www.glassdoor.com/Salaries/france-data-scientist-salary-SRCH_IL.0,6_IN86_KO7,21.htm\", \"UK_Scientist\": \"https://www.glassdoor.com/Salaries/uk-data-scientist-salary-SRCH_IL.0,2_IN2_KO3,17.htm\", \"USA_Scientist\": \"https://www.glassdoor.com/Salaries/us-data-scientist-salary-SRCH_IL.0,2_IN1_KO3,17.htm\"}"
   ]
  },
  {
   "cell_type": "code",
   "execution_count": 29,
   "metadata": {},
   "outputs": [],
   "source": [
    "def scientist_wage(country):\n",
    "    return extract_glassdoor_info(countries_scientist[country])"
   ]
  },
  {
   "cell_type": "code",
   "execution_count": 30,
   "metadata": {},
   "outputs": [
    {
     "ename": "IndexError",
     "evalue": "list index out of range",
     "output_type": "error",
     "traceback": [
      "\u001b[1;31m---------------------------------------------------------------------------\u001b[0m",
      "\u001b[1;31mIndexError\u001b[0m                                Traceback (most recent call last)",
      "\u001b[1;32m<ipython-input-30-bf898daedb31>\u001b[0m in \u001b[0;36m<module>\u001b[1;34m\u001b[0m\n\u001b[1;32m----> 1\u001b[1;33m \u001b[0mdf_jobs_scientist\u001b[0m \u001b[1;33m=\u001b[0m \u001b[0mpd\u001b[0m\u001b[1;33m.\u001b[0m\u001b[0mDataFrame\u001b[0m\u001b[1;33m(\u001b[0m\u001b[1;33m[\u001b[0m\u001b[1;33m(\u001b[0m\u001b[0mextract_glassdoor_info\u001b[0m\u001b[1;33m(\u001b[0m\u001b[0mcountries_scientist\u001b[0m\u001b[1;33m[\u001b[0m\u001b[0mi\u001b[0m\u001b[1;33m]\u001b[0m\u001b[1;33m)\u001b[0m\u001b[1;33m)\u001b[0m \u001b[1;32mfor\u001b[0m \u001b[0mi\u001b[0m \u001b[1;32min\u001b[0m \u001b[0mcountries_scientist\u001b[0m\u001b[1;33m]\u001b[0m\u001b[1;33m)\u001b[0m\u001b[1;33m\u001b[0m\u001b[1;33m\u001b[0m\u001b[0m\n\u001b[0m",
      "\u001b[1;32m<ipython-input-30-bf898daedb31>\u001b[0m in \u001b[0;36m<listcomp>\u001b[1;34m(.0)\u001b[0m\n\u001b[1;32m----> 1\u001b[1;33m \u001b[0mdf_jobs_scientist\u001b[0m \u001b[1;33m=\u001b[0m \u001b[0mpd\u001b[0m\u001b[1;33m.\u001b[0m\u001b[0mDataFrame\u001b[0m\u001b[1;33m(\u001b[0m\u001b[1;33m[\u001b[0m\u001b[1;33m(\u001b[0m\u001b[0mextract_glassdoor_info\u001b[0m\u001b[1;33m(\u001b[0m\u001b[0mcountries_scientist\u001b[0m\u001b[1;33m[\u001b[0m\u001b[0mi\u001b[0m\u001b[1;33m]\u001b[0m\u001b[1;33m)\u001b[0m\u001b[1;33m)\u001b[0m \u001b[1;32mfor\u001b[0m \u001b[0mi\u001b[0m \u001b[1;32min\u001b[0m \u001b[0mcountries_scientist\u001b[0m\u001b[1;33m]\u001b[0m\u001b[1;33m)\u001b[0m\u001b[1;33m\u001b[0m\u001b[1;33m\u001b[0m\u001b[0m\n\u001b[0m",
      "\u001b[1;32m<ipython-input-15-5128f9dca367>\u001b[0m in \u001b[0;36mextract_glassdoor_info\u001b[1;34m(url)\u001b[0m\n\u001b[0;32m     16\u001b[0m     \u001b[0msalary_info_list\u001b[0m\u001b[1;33m.\u001b[0m\u001b[0mappend\u001b[0m\u001b[1;33m(\u001b[0m\u001b[0mjob_name_list\u001b[0m\u001b[1;33m[\u001b[0m\u001b[1;36m0\u001b[0m\u001b[1;33m]\u001b[0m\u001b[1;33m)\u001b[0m\u001b[1;33m\u001b[0m\u001b[1;33m\u001b[0m\u001b[0m\n\u001b[0;32m     17\u001b[0m     \u001b[0msalary_info_list\u001b[0m\u001b[1;33m.\u001b[0m\u001b[0mappend\u001b[0m\u001b[1;33m(\u001b[0m\u001b[0mcountry_name_list\u001b[0m\u001b[1;33m[\u001b[0m\u001b[1;36m0\u001b[0m\u001b[1;33m]\u001b[0m\u001b[1;33m)\u001b[0m\u001b[1;33m\u001b[0m\u001b[1;33m\u001b[0m\u001b[0m\n\u001b[1;32m---> 18\u001b[1;33m     \u001b[0msalary_info_list\u001b[0m\u001b[1;33m.\u001b[0m\u001b[0mappend\u001b[0m\u001b[1;33m(\u001b[0m\u001b[0msalary_list\u001b[0m\u001b[1;33m[\u001b[0m\u001b[1;36m0\u001b[0m\u001b[1;33m]\u001b[0m\u001b[1;33m)\u001b[0m\u001b[1;33m\u001b[0m\u001b[1;33m\u001b[0m\u001b[0m\n\u001b[0m\u001b[0;32m     19\u001b[0m     \u001b[1;32mreturn\u001b[0m \u001b[0msalary_info_list\u001b[0m\u001b[1;33m\u001b[0m\u001b[1;33m\u001b[0m\u001b[0m\n",
      "\u001b[1;31mIndexError\u001b[0m: list index out of range"
     ]
    }
   ],
   "source": [
    "df_jobs_scientist = pd.DataFrame([(extract_glassdoor_info(countries_scientist[i])) for i in countries_scientist])"
   ]
  },
  {
   "cell_type": "code",
   "execution_count": null,
   "metadata": {},
   "outputs": [],
   "source": [
    "df_jobs = df_jobs.append(df_jobs_scientist)"
   ]
  },
  {
   "cell_type": "code",
   "execution_count": null,
   "metadata": {},
   "outputs": [],
   "source": [
    "df_jobs"
   ]
  },
  {
   "cell_type": "code",
   "execution_count": null,
   "metadata": {},
   "outputs": [],
   "source": [
    "countries_engineer = {\"Spain\" : \"https://www.glassdoor.com/Salaries/spain-data-engineer-salary-SRCH_IL.0,5_IN219_KO6,19.htm\", \"Germany\": \"https://www.glassdoor.com/Salaries/germany-data-engineer-salary-SRCH_IL.0,7_IN96_KO8,21.htm\", \"France\": \"https://www.glassdoor.com/Salaries/france-data-engineer-salary-SRCH_IL.0,6_IN86_KO7,20.htm\", \"UK\": \"https://www.glassdoor.com/Salaries/uk-data-engineer-salary-SRCH_IL.0,2_IN2_KO3,16.htm\", \"USA\": \"https://www.glassdoor.com/Salaries/us-data-engineer-salary-SRCH_IL.0,2_IN1_KO3,16.htm\"}"
   ]
  },
  {
   "cell_type": "code",
   "execution_count": null,
   "metadata": {},
   "outputs": [],
   "source": [
    "def engineer_wage(country):\n",
    "    return extract_glassdoor_info(countries_engineer[country])"
   ]
  },
  {
   "cell_type": "code",
   "execution_count": null,
   "metadata": {},
   "outputs": [],
   "source": [
    "df_jobs_engineer = pd.DataFrame([(extract_glassdoor_info(countries_engineer[i])) for i in countries_engineer])"
   ]
  },
  {
   "cell_type": "code",
   "execution_count": null,
   "metadata": {},
   "outputs": [],
   "source": [
    "df_jobs = df_jobs.append(df_jobs_engineer)"
   ]
  },
  {
   "cell_type": "code",
   "execution_count": null,
   "metadata": {},
   "outputs": [],
   "source": [
    "df_jobs"
   ]
  }
 ],
 "metadata": {
  "kernelspec": {
   "display_name": "Python 3",
   "language": "python",
   "name": "python3"
  },
  "language_info": {
   "codemirror_mode": {
    "name": "ipython",
    "version": 3
   },
   "file_extension": ".py",
   "mimetype": "text/x-python",
   "name": "python",
   "nbconvert_exporter": "python",
   "pygments_lexer": "ipython3",
   "version": "3.7.3"
  }
 },
 "nbformat": 4,
 "nbformat_minor": 2
}
