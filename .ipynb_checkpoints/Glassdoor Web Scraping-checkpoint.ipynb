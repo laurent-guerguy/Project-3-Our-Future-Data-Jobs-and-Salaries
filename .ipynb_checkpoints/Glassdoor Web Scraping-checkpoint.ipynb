{
 "cells": [
  {
   "cell_type": "code",
   "execution_count": 1,
   "metadata": {},
   "outputs": [
    {
     "data": {
      "text/plain": [
       "b'<!DOCTYPE html><html><head><title>Apache Tomcat - Error report</title><style type=\"text/css\">H1 {font-family:Tahoma,Arial,sans-serif;color:white;background-color:#525D76;font-size:22px;} H2 {font-family:Tahoma,Arial,sans-serif;color:white;background-color:#525D76;font-size:16px;} H3 {font-family:Tahoma,Arial,sans-serif;color:white;background-color:#525D76;font-size:14px;} BODY {font-family:Tahoma,Arial,sans-serif;color:black;background-color:white;} B {font-family:Tahoma,Arial,sans-serif;color:white;background-color:#525D76;} P {font-family:Tahoma,Arial,sans-serif;background:white;color:black;font-size:12px;}A {color : black;}A.name {color : black;}.line {height: 1px; background-color: #525D76; border: none;}</style> \\n<!-- START: NODE PROXY INSERTS -->\\n<link href=\"/salaries/static/gd-salary-srch.bundle.css?v=16994c47fc665d3be7b6\" rel=\"stylesheet\" media=\"all\"/>\\n<script defer type=\"text/javascript\" src=\"https://unpkg.com/react@16.3.2/umd/react.production.min.js\"></script>\\n<script defer type=\"text/javascript\" src=\"https://unpkg.com/react-dom@16.3.2/umd/react-dom.production.min.js\"></script>\\n<script defer type=\"text/javascript\" src=\"https://unpkg.com/prop-types@15.6.2/prop-types.min.js\"></script>\\n<script defer type=\"text/javascript\" src=\"/salaries/static/js/gd-vendor.bundle.js?v=16994c47fc665d3be7b6\"></script>\\n<script defer type=\"text/javascript\" src=\"/salaries/static/js/gd-salary-srch.bundle.js?v=16994c47fc665d3be7b6\"></script>\\n<!-- END: NODE PROXY INSERTS -->\\n</head><body><h1>HTTP Status 403 - Bots not allowed</h1><div class=\"line\"></div><p><b>type</b> Status report</p><p><b>message</b> <u>Bots not allowed</u></p><p><b>description</b> <u>Access to the specified resource has been forbidden.</u></p><hr class=\"line\"><h3>Apache Tomcat</h3></body></html>'"
      ]
     },
     "execution_count": 1,
     "metadata": {},
     "output_type": "execute_result"
    }
   ],
   "source": [
    "# import library and scrape the web page for Glassdoor Data Analyst in Spain\n",
    "import requests\n",
    "\n",
    "url = 'https://www.glassdoor.com/Salaries/spain-data-analyst-salary-SRCH_IL.0,5_IN219_KO6,18.htm'\n",
    "html = requests.get(url).content\n",
    "html[0:10000]"
   ]
  },
  {
   "cell_type": "code",
   "execution_count": 2,
   "metadata": {},
   "outputs": [
    {
     "data": {
      "text/plain": [
       "403"
      ]
     },
     "execution_count": 2,
     "metadata": {},
     "output_type": "execute_result"
    }
   ],
   "source": [
    "# Get the status message we get from the page\n",
    "requests.get(url).status_code\n",
    "\n",
    "# It is forbidden"
   ]
  },
  {
   "cell_type": "code",
   "execution_count": 3,
   "metadata": {},
   "outputs": [
    {
     "data": {
      "text/plain": [
       "b'<!DOCTYPE html>\\n<html lang=\\'en\\' xmlns:fb=\\'http://www.facebook.com/2008/fbml\\' xmlns:og=\\'http://opengraph.org/schema/\\'\\n      class=\\'flex\\'>\\n\\n<head prefix=\\'og: http://ogp.me/ns# fb: http://ogp.me/ns/fb# glassdoor: http://ogp.me/ns/fb/glassdoor#\\'><!-- because the getter clears the value --><script>\\n\\twindow.gdGlobals = window.gdGlobals ||\\n\\t\\t[{\\n\\t\\t\\t\\'analyticsId\\':                      \"UA-2595786-1\",\\n\\n\\t\\t\\t\\n\\t\\t\\t\\'analyticsUrl\\':                     \"/search/salaries?cat=Salaries&o=Data+Analyst&l=Spain+%28N%3A+219%29\",\\n\\n\\t\\t\\t\\'deferredScriptType\\':               \"text/x-deferred-js\",\\n\\t\\t\\t\\'accessDeniedRedirectUrl\\':          \\'\\',\\n\\t\\t\\t\\'locale\\': \\t\\t\\t\\t\\t\\t\\t\\'en-US\\',\\n\\t\\t\\t\\'env\\': \\'prod\\',\\n\\n\\n\\t\\t\\t\\'device\\':       {\\n\\n\\t\\t\\t\\t\\t\\t\\t\\t\\n\\t\\t\\t\\t\\t\\t\\t\\t\\'handheld\\':     false,\\n\\n\\t\\t\\t\\t\\t\\t\\t\\t\\n\\t\\t\\t\\t\\t\\t\\t\\t\\'tablet\\':       \\tfalse,\\n\\t\\t\\t\\t\\t\\t\\t\\t\\'deviceTypeId\\': \\t1,\\n\\t\\t\\t\\t\\t\\t\\t\\t\\'platformTypeId\\': \\t3,\\n\\t\\t\\t\\t\\t\\t\\t\\t\\'viewTypeId\\': \\t\\t4\\n\\t\\t\\t\\t\\t\\t\\t},\\n\\t\\t\\t\\'page\\':         {\\n\\t\\t\\t\\t\\t\\t\\t\\t\\n\\t\\t\\t\\t\\t\\t\\t\\t\\'domain\\':       \"www.glassdoor.com\",\\n\\t\\t\\t\\t\\t\\t\\t\\t\\'domainId\\':\\t\\t1,\\n\\n\\t\\t\\t\\t\\t\\t\\t\\t\\n\\t\\t\\t\\t\\t\\t\\t\\t\\'domainSuffix\\': \"\",\\n\\n'"
      ]
     },
     "execution_count": 3,
     "metadata": {},
     "output_type": "execute_result"
    }
   ],
   "source": [
    "# Scrape the Data Analyst for Spain Glassdoor webpage using a User Agent (by defining a User Agent you say to the\n",
    "# you visit that you come from a specific computer using a specific internet browser)\n",
    "url = 'https://www.glassdoor.com/Salaries/spain-data-analyst-salary-SRCH_IL.0,5_IN219_KO6,18.htm'\n",
    "headers = {'User-Agent': 'Mozilla/5.0 (X11; Linux x86_64) AppleWebKit/537.36 (KHTML, like Gecko) Chrome/75.0.3770.100 Safari/537.36'}\n",
    "html = requests.get(url, headers=headers).content\n",
    "html[0:1000]"
   ]
  },
  {
   "cell_type": "code",
   "execution_count": 4,
   "metadata": {},
   "outputs": [
    {
     "data": {
      "text/plain": [
       "200"
      ]
     },
     "execution_count": 4,
     "metadata": {},
     "output_type": "execute_result"
    }
   ],
   "source": [
    "# Checking status code\n",
    "requests.get(url, headers=headers).status_code\n",
    "\n",
    "# Successful scraping"
   ]
  },
  {
   "cell_type": "code",
   "execution_count": 5,
   "metadata": {},
   "outputs": [],
   "source": [
    "# Import My Beautiful Soup to select the part of the text that interests us\n",
    "from bs4 import BeautifulSoup"
   ]
  },
  {
   "cell_type": "code",
   "execution_count": 6,
   "metadata": {},
   "outputs": [],
   "source": [
    "# Make the text more readable\n",
    "soup = BeautifulSoup(html, \"lxml\")"
   ]
  },
  {
   "cell_type": "code",
   "execution_count": 9,
   "metadata": {},
   "outputs": [
    {
     "data": {
      "text/plain": [
       "[<p class=\"occMedianModule__SeoTextStyle__description tightVert\"><span>The national average salary for a Data Analyst is €31,195  in Spain. Filter by location to see Data Analyst salaries in your area. Salary estimates are based on 23 salaries submitted anonymously to Glassdoor by Data Analyst employees.</span></p>]"
      ]
     },
     "execution_count": 9,
     "metadata": {},
     "output_type": "execute_result"
    }
   ],
   "source": [
    "# Extract the text containing the job, average salary and country\n",
    "salary_text = soup.find_all(\"p\", class_=\"occMedianModule__SeoTextStyle__description tightVert\")\n",
    "salary_text"
   ]
  },
  {
   "cell_type": "code",
   "execution_count": 10,
   "metadata": {},
   "outputs": [],
   "source": [
    "# Convert the list to a string\n",
    "salary_text = str(salary_text)"
   ]
  },
  {
   "cell_type": "code",
   "execution_count": 11,
   "metadata": {},
   "outputs": [
    {
     "name": "stdout",
     "output_type": "stream",
     "text": [
      "['€31,195']\n"
     ]
    }
   ],
   "source": [
    "# Import Regex functionality\n",
    "import re\n",
    "\n",
    "# Look for the average salary in the text\n",
    "salary_list = re.findall(\"€\\S*\", salary_text)\n",
    "print(salary_list)"
   ]
  },
  {
   "cell_type": "code",
   "execution_count": 12,
   "metadata": {},
   "outputs": [
    {
     "name": "stdout",
     "output_type": "stream",
     "text": [
      "['Data Analyst']\n"
     ]
    }
   ],
   "source": [
    "# Look for the job name in the text\n",
    "job_name_list = re.findall(\"(?<=for\\sa\\s)\\w+\\s\\w+\", salary_text)\n",
    "print(job_name_list)"
   ]
  },
  {
   "cell_type": "code",
   "execution_count": 13,
   "metadata": {},
   "outputs": [
    {
     "name": "stdout",
     "output_type": "stream",
     "text": [
      "['Spain']\n"
     ]
    }
   ],
   "source": [
    "# Look for the country in the text\n",
    "country_name_list = re.findall(\"\\w+(?=\\.\\sFilter)\", salary_text)\n",
    "print(country_name_list)"
   ]
  },
  {
   "cell_type": "code",
   "execution_count": 42,
   "metadata": {},
   "outputs": [],
   "source": [
    "# Create an empty list to collect the values of job title, country and salary\n",
    "salary_info_list = []"
   ]
  },
  {
   "cell_type": "code",
   "execution_count": 43,
   "metadata": {},
   "outputs": [
    {
     "name": "stdout",
     "output_type": "stream",
     "text": [
      "['Data Analyst', 'Spain', '€31,195']\n"
     ]
    }
   ],
   "source": [
    "# Append the three values of job title, country and salary to the list and print it\n",
    "salary_info_list.append(job_name_list[0])\n",
    "salary_info_list.append(country_name_list[0])\n",
    "salary_info_list.append(salary_list[0])\n",
    "# Print the result\n",
    "print(salary_info_list)"
   ]
  },
  {
   "cell_type": "code",
   "execution_count": 53,
   "metadata": {},
   "outputs": [],
   "source": [
    "# Create a function that extracts the job name, country and salary (using all steps above) and put it in a list\n",
    "import requests\n",
    "import re\n",
    "from bs4 import BeautifulSoup\n",
    "\n",
    "def extract_glassdoor_info(url):\n",
    "    headers = {'User-Agent': 'Mozilla/5.0 (X11; Linux x86_64) AppleWebKit/537.36 (KHTML, like Gecko) Chrome/75.0.3770.100 Safari/537.36'}\n",
    "    html = requests.get(url, headers=headers).content\n",
    "    soup = BeautifulSoup(html, \"lxml\")\n",
    "    salary_text = soup.find_all(\"p\", class_=\"occMedianModule__SeoTextStyle__description tightVert\")\n",
    "    salary_list = re.findall(\"€\\S*\", salary_text)\n",
    "    return salary_list"
   ]
  },
  {
   "cell_type": "code",
   "execution_count": 54,
   "metadata": {},
   "outputs": [
    {
     "ename": "TypeError",
     "evalue": "expected string or bytes-like object",
     "output_type": "error",
     "traceback": [
      "\u001b[0;31m---------------------------------------------------------------------------\u001b[0m",
      "\u001b[0;31mTypeError\u001b[0m                                 Traceback (most recent call last)",
      "\u001b[0;32m<ipython-input-54-5dc81bc1162e>\u001b[0m in \u001b[0;36m<module>\u001b[0;34m\u001b[0m\n\u001b[1;32m      1\u001b[0m \u001b[0;31m# Trying out the function\u001b[0m\u001b[0;34m\u001b[0m\u001b[0;34m\u001b[0m\u001b[0;34m\u001b[0m\u001b[0m\n\u001b[1;32m      2\u001b[0m \u001b[0murl\u001b[0m \u001b[0;34m=\u001b[0m \u001b[0;34m\"https://www.glassdoor.com/Salaries/spain-data-analyst-salary-SRCH_IL.0,5_IN219_KO6,18.htm\"\u001b[0m\u001b[0;34m\u001b[0m\u001b[0;34m\u001b[0m\u001b[0m\n\u001b[0;32m----> 3\u001b[0;31m \u001b[0mextract_glassdoor_info\u001b[0m\u001b[0;34m(\u001b[0m\u001b[0murl\u001b[0m\u001b[0;34m)\u001b[0m\u001b[0;34m\u001b[0m\u001b[0;34m\u001b[0m\u001b[0m\n\u001b[0m",
      "\u001b[0;32m<ipython-input-53-c3da73b1d101>\u001b[0m in \u001b[0;36mextract_glassdoor_info\u001b[0;34m(url)\u001b[0m\n\u001b[1;32m      9\u001b[0m     \u001b[0msoup\u001b[0m \u001b[0;34m=\u001b[0m \u001b[0mBeautifulSoup\u001b[0m\u001b[0;34m(\u001b[0m\u001b[0mhtml\u001b[0m\u001b[0;34m,\u001b[0m \u001b[0;34m\"lxml\"\u001b[0m\u001b[0;34m)\u001b[0m\u001b[0;34m\u001b[0m\u001b[0;34m\u001b[0m\u001b[0m\n\u001b[1;32m     10\u001b[0m     \u001b[0msalary_text\u001b[0m \u001b[0;34m=\u001b[0m \u001b[0msoup\u001b[0m\u001b[0;34m.\u001b[0m\u001b[0mfind_all\u001b[0m\u001b[0;34m(\u001b[0m\u001b[0;34m\"p\"\u001b[0m\u001b[0;34m,\u001b[0m \u001b[0mclass_\u001b[0m\u001b[0;34m=\u001b[0m\u001b[0;34m\"occMedianModule__SeoTextStyle__description tightVert\"\u001b[0m\u001b[0;34m)\u001b[0m\u001b[0;34m\u001b[0m\u001b[0;34m\u001b[0m\u001b[0m\n\u001b[0;32m---> 11\u001b[0;31m     \u001b[0msalary_list\u001b[0m \u001b[0;34m=\u001b[0m \u001b[0mre\u001b[0m\u001b[0;34m.\u001b[0m\u001b[0mfindall\u001b[0m\u001b[0;34m(\u001b[0m\u001b[0;34m\"€\\S*\"\u001b[0m\u001b[0;34m,\u001b[0m \u001b[0msalary_text\u001b[0m\u001b[0;34m)\u001b[0m\u001b[0;34m\u001b[0m\u001b[0;34m\u001b[0m\u001b[0m\n\u001b[0m\u001b[1;32m     12\u001b[0m     \u001b[0;32mreturn\u001b[0m \u001b[0msalary_list\u001b[0m\u001b[0;34m\u001b[0m\u001b[0;34m\u001b[0m\u001b[0m\n",
      "\u001b[0;32m/home/linuxbrew/.linuxbrew/opt/python/lib/python3.7/re.py\u001b[0m in \u001b[0;36mfindall\u001b[0;34m(pattern, string, flags)\u001b[0m\n\u001b[1;32m    221\u001b[0m \u001b[0;34m\u001b[0m\u001b[0m\n\u001b[1;32m    222\u001b[0m     Empty matches are included in the result.\"\"\"\n\u001b[0;32m--> 223\u001b[0;31m     \u001b[0;32mreturn\u001b[0m \u001b[0m_compile\u001b[0m\u001b[0;34m(\u001b[0m\u001b[0mpattern\u001b[0m\u001b[0;34m,\u001b[0m \u001b[0mflags\u001b[0m\u001b[0;34m)\u001b[0m\u001b[0;34m.\u001b[0m\u001b[0mfindall\u001b[0m\u001b[0;34m(\u001b[0m\u001b[0mstring\u001b[0m\u001b[0;34m)\u001b[0m\u001b[0;34m\u001b[0m\u001b[0;34m\u001b[0m\u001b[0m\n\u001b[0m\u001b[1;32m    224\u001b[0m \u001b[0;34m\u001b[0m\u001b[0m\n\u001b[1;32m    225\u001b[0m \u001b[0;32mdef\u001b[0m \u001b[0mfinditer\u001b[0m\u001b[0;34m(\u001b[0m\u001b[0mpattern\u001b[0m\u001b[0;34m,\u001b[0m \u001b[0mstring\u001b[0m\u001b[0;34m,\u001b[0m \u001b[0mflags\u001b[0m\u001b[0;34m=\u001b[0m\u001b[0;36m0\u001b[0m\u001b[0;34m)\u001b[0m\u001b[0;34m:\u001b[0m\u001b[0;34m\u001b[0m\u001b[0;34m\u001b[0m\u001b[0m\n",
      "\u001b[0;31mTypeError\u001b[0m: expected string or bytes-like object"
     ]
    }
   ],
   "source": [
    "# Trying out the function\n",
    "url = \"https://www.glassdoor.com/Salaries/spain-data-analyst-salary-SRCH_IL.0,5_IN219_KO6,18.htm\"\n",
    "extract_glassdoor_info(url)"
   ]
  },
  {
   "cell_type": "code",
   "execution_count": 55,
   "metadata": {},
   "outputs": [
    {
     "name": "stdout",
     "output_type": "stream",
     "text": [
      "['€31,195']\n"
     ]
    }
   ],
   "source": [
    "print(salary_list)"
   ]
  },
  {
   "cell_type": "code",
   "execution_count": 56,
   "metadata": {},
   "outputs": [],
   "source": [
    "# Create a function that extracts the job name, country and salary (using all steps above) and put it in a list\n",
    "import requests\n",
    "import re\n",
    "from bs4 import BeautifulSoup\n",
    "\n",
    "def extract_glassdoor_info(url):\n",
    "    headers = {'User-Agent': 'Mozilla/5.0 (X11; Linux x86_64) AppleWebKit/537.36 (KHTML, like Gecko) Chrome/75.0.3770.100 Safari/537.36'}\n",
    "    html = requests.get(url, headers=headers).content\n",
    "    soup = BeautifulSoup(html, \"lxml\")\n",
    "    salary_text = soup.find_all(\"p\", class_=\"occMedianModule__SeoTextStyle__description tightVert\")\n",
    "    print(salary_text)\n",
    "    salary_list = re.findall(\"€\\S*\", salary_text)\n",
    "    print(salary_list)\n",
    "    job_name_list = re.findall(\"(?<=for\\sa\\s)\\w+\\s\\w+\", salary_text)\n",
    "    country_name_list = re.findall(\"\\w+(?=\\.\\sFilter)\", salary_text)\n",
    "    salary_info_list = []\n",
    "    salary_info_list.append(job_name_list[0])\n",
    "    salary_info_list.append(country_name_list[0])\n",
    "    salary_info_list.append(salary_list[0])\n",
    "    return salary_info_list"
   ]
  },
  {
   "cell_type": "code",
   "execution_count": 57,
   "metadata": {},
   "outputs": [
    {
     "name": "stdout",
     "output_type": "stream",
     "text": [
      "[<p class=\"occMedianModule__SeoTextStyle__description tightVert\"><span>The national average salary for a Data Analyst is €31,195  in Spain. Filter by location to see Data Analyst salaries in your area. Salary estimates are based on 23 salaries submitted anonymously to Glassdoor by Data Analyst employees.</span></p>]\n"
     ]
    },
    {
     "ename": "TypeError",
     "evalue": "expected string or bytes-like object",
     "output_type": "error",
     "traceback": [
      "\u001b[0;31m---------------------------------------------------------------------------\u001b[0m",
      "\u001b[0;31mTypeError\u001b[0m                                 Traceback (most recent call last)",
      "\u001b[0;32m<ipython-input-57-5dc81bc1162e>\u001b[0m in \u001b[0;36m<module>\u001b[0;34m\u001b[0m\n\u001b[1;32m      1\u001b[0m \u001b[0;31m# Trying out the function\u001b[0m\u001b[0;34m\u001b[0m\u001b[0;34m\u001b[0m\u001b[0;34m\u001b[0m\u001b[0m\n\u001b[1;32m      2\u001b[0m \u001b[0murl\u001b[0m \u001b[0;34m=\u001b[0m \u001b[0;34m\"https://www.glassdoor.com/Salaries/spain-data-analyst-salary-SRCH_IL.0,5_IN219_KO6,18.htm\"\u001b[0m\u001b[0;34m\u001b[0m\u001b[0;34m\u001b[0m\u001b[0m\n\u001b[0;32m----> 3\u001b[0;31m \u001b[0mextract_glassdoor_info\u001b[0m\u001b[0;34m(\u001b[0m\u001b[0murl\u001b[0m\u001b[0;34m)\u001b[0m\u001b[0;34m\u001b[0m\u001b[0;34m\u001b[0m\u001b[0m\n\u001b[0m",
      "\u001b[0;32m<ipython-input-56-11fbe620f471>\u001b[0m in \u001b[0;36mextract_glassdoor_info\u001b[0;34m(url)\u001b[0m\n\u001b[1;32m     10\u001b[0m     \u001b[0msalary_text\u001b[0m \u001b[0;34m=\u001b[0m \u001b[0msoup\u001b[0m\u001b[0;34m.\u001b[0m\u001b[0mfind_all\u001b[0m\u001b[0;34m(\u001b[0m\u001b[0;34m\"p\"\u001b[0m\u001b[0;34m,\u001b[0m \u001b[0mclass_\u001b[0m\u001b[0;34m=\u001b[0m\u001b[0;34m\"occMedianModule__SeoTextStyle__description tightVert\"\u001b[0m\u001b[0;34m)\u001b[0m\u001b[0;34m\u001b[0m\u001b[0;34m\u001b[0m\u001b[0m\n\u001b[1;32m     11\u001b[0m     \u001b[0mprint\u001b[0m\u001b[0;34m(\u001b[0m\u001b[0msalary_text\u001b[0m\u001b[0;34m)\u001b[0m\u001b[0;34m\u001b[0m\u001b[0;34m\u001b[0m\u001b[0m\n\u001b[0;32m---> 12\u001b[0;31m     \u001b[0msalary_list\u001b[0m \u001b[0;34m=\u001b[0m \u001b[0mre\u001b[0m\u001b[0;34m.\u001b[0m\u001b[0mfindall\u001b[0m\u001b[0;34m(\u001b[0m\u001b[0;34m\"€\\S*\"\u001b[0m\u001b[0;34m,\u001b[0m \u001b[0msalary_text\u001b[0m\u001b[0;34m)\u001b[0m\u001b[0;34m\u001b[0m\u001b[0;34m\u001b[0m\u001b[0m\n\u001b[0m\u001b[1;32m     13\u001b[0m     \u001b[0mprint\u001b[0m\u001b[0;34m(\u001b[0m\u001b[0msalary_list\u001b[0m\u001b[0;34m)\u001b[0m\u001b[0;34m\u001b[0m\u001b[0;34m\u001b[0m\u001b[0m\n\u001b[1;32m     14\u001b[0m     \u001b[0mjob_name_list\u001b[0m \u001b[0;34m=\u001b[0m \u001b[0mre\u001b[0m\u001b[0;34m.\u001b[0m\u001b[0mfindall\u001b[0m\u001b[0;34m(\u001b[0m\u001b[0;34m\"(?<=for\\sa\\s)\\w+\\s\\w+\"\u001b[0m\u001b[0;34m,\u001b[0m \u001b[0msalary_text\u001b[0m\u001b[0;34m)\u001b[0m\u001b[0;34m\u001b[0m\u001b[0;34m\u001b[0m\u001b[0m\n",
      "\u001b[0;32m/home/linuxbrew/.linuxbrew/opt/python/lib/python3.7/re.py\u001b[0m in \u001b[0;36mfindall\u001b[0;34m(pattern, string, flags)\u001b[0m\n\u001b[1;32m    221\u001b[0m \u001b[0;34m\u001b[0m\u001b[0m\n\u001b[1;32m    222\u001b[0m     Empty matches are included in the result.\"\"\"\n\u001b[0;32m--> 223\u001b[0;31m     \u001b[0;32mreturn\u001b[0m \u001b[0m_compile\u001b[0m\u001b[0;34m(\u001b[0m\u001b[0mpattern\u001b[0m\u001b[0;34m,\u001b[0m \u001b[0mflags\u001b[0m\u001b[0;34m)\u001b[0m\u001b[0;34m.\u001b[0m\u001b[0mfindall\u001b[0m\u001b[0;34m(\u001b[0m\u001b[0mstring\u001b[0m\u001b[0;34m)\u001b[0m\u001b[0;34m\u001b[0m\u001b[0;34m\u001b[0m\u001b[0m\n\u001b[0m\u001b[1;32m    224\u001b[0m \u001b[0;34m\u001b[0m\u001b[0m\n\u001b[1;32m    225\u001b[0m \u001b[0;32mdef\u001b[0m \u001b[0mfinditer\u001b[0m\u001b[0;34m(\u001b[0m\u001b[0mpattern\u001b[0m\u001b[0;34m,\u001b[0m \u001b[0mstring\u001b[0m\u001b[0;34m,\u001b[0m \u001b[0mflags\u001b[0m\u001b[0;34m=\u001b[0m\u001b[0;36m0\u001b[0m\u001b[0;34m)\u001b[0m\u001b[0;34m:\u001b[0m\u001b[0;34m\u001b[0m\u001b[0;34m\u001b[0m\u001b[0m\n",
      "\u001b[0;31mTypeError\u001b[0m: expected string or bytes-like object"
     ]
    }
   ],
   "source": [
    "# Trying out the function\n",
    "url = \"https://www.glassdoor.com/Salaries/spain-data-analyst-salary-SRCH_IL.0,5_IN219_KO6,18.htm\"\n",
    "extract_glassdoor_info(url)"
   ]
  },
  {
   "cell_type": "code",
   "execution_count": 59,
   "metadata": {},
   "outputs": [
    {
     "name": "stdout",
     "output_type": "stream",
     "text": [
      "['Data Analyst', 'Spain', '€31,195']\n"
     ]
    }
   ],
   "source": [
    "print(salary_info_list)"
   ]
  },
  {
   "cell_type": "code",
   "execution_count": null,
   "metadata": {},
   "outputs": [],
   "source": []
  },
  {
   "cell_type": "code",
   "execution_count": null,
   "metadata": {},
   "outputs": [],
   "source": []
  },
  {
   "cell_type": "code",
   "execution_count": null,
   "metadata": {},
   "outputs": [],
   "source": []
  },
  {
   "cell_type": "code",
   "execution_count": null,
   "metadata": {},
   "outputs": [],
   "source": []
  },
  {
   "cell_type": "code",
   "execution_count": null,
   "metadata": {},
   "outputs": [],
   "source": []
  }
 ],
 "metadata": {
  "kernelspec": {
   "display_name": "Python 3",
   "language": "python",
   "name": "python3"
  },
  "language_info": {
   "codemirror_mode": {
    "name": "ipython",
    "version": 3
   },
   "file_extension": ".py",
   "mimetype": "text/x-python",
   "name": "python",
   "nbconvert_exporter": "python",
   "pygments_lexer": "ipython3",
   "version": "3.7.3"
  }
 },
 "nbformat": 4,
 "nbformat_minor": 2
}
