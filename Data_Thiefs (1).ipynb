{
 "cells": [
  {
   "cell_type": "code",
   "execution_count": 2,
   "metadata": {},
   "outputs": [],
   "source": [
    "import requests\n",
    "import re\n",
    "from bs4 import BeautifulSoup\n",
    "import pandas as pd"
   ]
  },
  {
   "cell_type": "code",
   "execution_count": 2,
   "metadata": {},
   "outputs": [],
   "source": [
    "def extract_glassdoor_info(url):\n",
    "   headers = {'User-Agent': 'Mozilla/5.0 (X11; Linux x86_64) AppleWebKit/537.36 (KHTML, like Gecko) Chrome/75.0.3770.100 Safari/537.36'}\n",
    "   html = requests.get(url, headers=headers).content\n",
    "   soup = BeautifulSoup(html, \"lxml\")\n",
    "   salary_text = soup.find_all(\"p\", class_=\"occMedianModule__SeoTextStyle__description tightVert\")\n",
    "   salary_text = str(salary_text)\n",
    "   salary_list = re.findall(\"[€|£|\\$]\\S*\", salary_text)\n",
    "   job_name_list = re.findall(\"(?<=for\\sa\\s)\\w+\\s\\w+\\s\\w+\", salary_text)\n",
    "   country_name_list = re.findall(\"\\w+(?=\\.\\sFilter)\", salary_text)\n",
    "   salary_info_list = []\n",
    "   salary_info_list.append(job_name_list[0])\n",
    "   salary_info_list.append(country_name_list[0])\n",
    "   salary_info_list.append(salary_list[0])\n",
    "   return salary_info_list"
   ]
  },
  {
   "cell_type": "markdown",
   "metadata": {},
   "source": [
    "Dictionary for analyst: Country --> URL to Webpage"
   ]
  },
  {
   "cell_type": "code",
   "execution_count": 3,
   "metadata": {},
   "outputs": [],
   "source": [
    "country_job_dict = {\"Spain_Analyst\" : \"https://www.glassdoor.com/Salaries/spain-data-analyst-salary-SRCH_IL.0,5_IN219_KO6,18.htm\", \"Germany_Analyst\": \"https://www.glassdoor.com/Salaries/germany-data-analyst-salary-SRCH_IL.0,7_IN96_KO8,20.htm\", \"France_Analyst\": \"https://www.glassdoor.com/Salaries/france-data-analyst-salary-SRCH_IL.0,6_IN86_KO7,19.htm\", \"UK_Analyst\": \"https://www.glassdoor.com/Salaries/uk-data-analyst-salary-SRCH_IL.0,2_IN2_KO3,15.htm\", \"USA_Analyst\": \"https://www.glassdoor.com/Salaries/us-data-analyst-salary-SRCH_IL.0,2_IN1_KO3,15.htm\", \"Spain_Scientist\" : \"https://www.glassdoor.com/Salaries/spain-data-scientist-salary-SRCH_IL.0,5_IN219_KO6,20.htm\", \"Germany_Scientist\": \"https://www.glassdoor.com/Salaries/germany-data-scientist-salary-SRCH_IL.0,7_IN96_KO8,22.htm\", \"France_Scientist\": \"https://www.glassdoor.com/Salaries/france-data-scientist-salary-SRCH_IL.0,6_IN86_KO7,21.htm\", \"UK_Scientist\": \"https://www.glassdoor.com/Salaries/uk-data-scientist-salary-SRCH_IL.0,2_IN2_KO3,17.htm\", \"USA_Scientist\": \"https://www.glassdoor.com/Salaries/us-data-scientist-salary-SRCH_IL.0,2_IN1_KO3,17.htm\", \"Spain_FinAnalyst\": \"https://www.glassdoor.com/Salaries/spain-financial-analyst-salary-SRCH_IL.0,5_IN219_KO6,23.htm\", \"France_FinAnalyst\": \"https://www.glassdoor.com/Salaries/france-financial-analyst-salary-SRCH_IL.0,6_IN86_KO7,24.htm\", \"Germany_FinAnalyst\": \"https://www.glassdoor.com/Salaries/germany-financial-analyst-salary-SRCH_IL.0,7_IN96_KO8,25.htm\", \"UK_FinAnalyst\": \"https://www.glassdoor.com/Salaries/uk-financial-analyst-salary-SRCH_IL.0,2_IN2_KO3,20.htm\", \"USA_FinAnalyst\": \"https://www.glassdoor.com/Salaries/us-financial-analyst-salary-SRCH_IL.0,2_IN1_KO3,20.htm\", \"Spain_JrScientist\": \"https://www.glassdoor.com/Salaries/spain-junior-data-scientist-salary-SRCH_IL.0,5_IN219_KO6,27.htm\", \"France_JrScientist\" :\"https://www.glassdoor.com/Salaries/france-junior-data-scientist-salary-SRCH_IL.0,6_IN86_KO7,28.htm\", \"Germany_JrScientist\" :\"https://www.glassdoor.com/Salaries/germany-junior-data-scientist-salary-SRCH_IL.0,7_IN96_KO8,29.htm\", \"UK_JrScientist\" :\"https://www.glassdoor.com/Salaries/uk-junior-data-scientist-salary-SRCH_IL.0,2_IN2_KO3,24.htm\", \"US_JrScientist\" :\"https://www.glassdoor.com/Salaries/us-junior-data-scientist-salary-SRCH_IL.0,2_IN1_KO3,24.htm\", \"Spain_SrScientist\" :\"https://www.glassdoor.com/Salaries/spain-senior-data-scientist-salary-SRCH_IL.0,5_IN219_KO6,27.htm\", \"France_SrScientist\" :\"https://www.glassdoor.com/Salaries/france-senior-data-scientist-salary-SRCH_IL.0,6_IN86_KO7,28.htm\", \"Germany_SrScientist\" :\"https://www.glassdoor.com/Salaries/germany-senior-data-scientist-salary-SRCH_IL.0,7_IN96_KO8,29.htm\", \"UK_SrScientist\" :\"https://www.glassdoor.com/Salaries/uk-senior-data-scientist-salary-SRCH_IL.0,2_IN2_KO3,24.htm\", \"US_SrScientist\" :\"https://www.glassdoor.com/Salaries/us-senior-data-scientist-salary-SRCH_IL.0,2_IN1_KO3,24.htm\", \"Spain_JrAnalyst\" :\"https://www.glassdoor.com/Salaries/spain-junior-data-analyst-salary-SRCH_IL.0,5_IN219_KO6,25.htm\", \"France_JrAnalyst\" :\"https://www.glassdoor.com/Salaries/france-junior-data-analyst-salary-SRCH_IL.0,6_IN86_KO7,26.htm\", \"Germany_JrAnalyst\" :\"https://www.glassdoor.com/Salaries/germany-junior-data-analyst-salary-SRCH_IL.0,7_IN96_KO8,27.htm\", \"UK_JrAnalyst\" :\"https://www.glassdoor.com/Salaries/uk-junior-data-analyst-salary-SRCH_IL.0,2_IN2_KO3,22.htm\", \"USA_JrAnalyst\" :\"https://www.glassdoor.com/Salaries/us-junior-data-analyst-salary-SRCH_IL.0,2_IN1_KO3,22.htm\", \"Spain_SrAnalyst\" :\"https://www.glassdoor.com/Salaries/spain-senior-data-analyst-salary-SRCH_IL.0,5_IN219_KO6,25.htm\", \"France_SrAnalyst\" :\"https://www.glassdoor.com/Salaries/france-senior-data-analyst-salary-SRCH_IL.0,6_IN86_KO7,26.htm\", \"Germany_SrAnalyst\" :\"https://www.glassdoor.com/Salaries/germany-senior-data-analyst-salary-SRCH_IL.0,7_IN96_KO8,27.htm\", \"UK_SrAnalyst\" :\"https://www.glassdoor.com/Salaries/uk-senior-data-analyst-salary-SRCH_IL.0,2_IN2_KO3,22.htm\", \"USA_SrAnalyst\" :\"https://www.glassdoor.com/Salaries/us-senior-data-analyst-salary-SRCH_IL.0,2_IN1_KO3,22.htm\", \"Spain_JrFinAnalyst\" :\"https://www.glassdoor.com/Salaries/spain-junior-financial-analyst-salary-SRCH_IL.0,5_IN219_KO6,30.htm\", \"France_JrFinAnalyst\" :\"https://www.glassdoor.com/Salaries/france-junior-financial-analyst-salary-SRCH_IL.0,6_IN86_KO7,31.htm\", \"Germany_JrFinAnalyst\" :\"https://www.glassdoor.com/Salaries/germany-junior-financial-analyst-salary-SRCH_IL.0,7_IN96_KO8,32.htm\", \"UK_JrFinAnalyst\" :\"https://www.glassdoor.com/Salaries/uk-junior-financial-analyst-salary-SRCH_IL.0,2_IN2_KO3,27.htm\", \"USA_JrFinAnalyst\" :\"https://www.glassdoor.com/Salaries/us-junior-financial-analyst-salary-SRCH_IL.0,2_IN1_KO3,27.htm\", \"Spain_SrFinAnalyst\" :\"https://www.glassdoor.com/Salaries/spain-senior-financial-analyst-salary-SRCH_IL.0,5_IN219_KO6,30.htm\", \"France_SrFinAnalyst\" :\"https://www.glassdoor.com/Salaries/france-senior-financial-analyst-salary-SRCH_IL.0,6_IN86_KO7,31.htm\", \"Germany_SrFinAnalyst\" :\"https://www.glassdoor.com/Salaries/germany-senior-financial-analyst-salary-SRCH_IL.0,7_IN96_KO8,32.htm\", \"UK_SrFinAnalyst\" :\"https://www.glassdoor.com/Salaries/uk-senior-financial-analyst-salary-SRCH_IL.0,2_IN2_KO3,27.htm\", \"US_SrFinAnalyst\": \"https://www.glassdoor.com/Salaries/us-senior-financial-analyst-salary-SRCH_IL.0,2_IN1_KO3,27.htm\"}"
   ]
  },
  {
   "cell_type": "code",
   "execution_count": null,
   "metadata": {},
   "outputs": [],
   "source": [
    "def vage_calculator_for(country_job):\n",
    "    return extract_glassdoor_info(country_job_dict[country_job])"
   ]
  },
  {
   "cell_type": "code",
   "execution_count": null,
   "metadata": {},
   "outputs": [],
   "source": [
    "df_salaries = pd.DataFrame([vage_calculator_for(specific_job_in_country) for specific_job_in_country in country_job_dict])"
   ]
  },
  {
   "cell_type": "code",
   "execution_count": null,
   "metadata": {},
   "outputs": [],
   "source": [
    "df_salaries.columns = [\"Jobs\", \"Country\", \"Salary\"]"
   ]
  },
  {
   "cell_type": "code",
   "execution_count": null,
   "metadata": {},
   "outputs": [],
   "source": [
    "import re"
   ]
  },
  {
   "cell_type": "code",
   "execution_count": null,
   "metadata": {},
   "outputs": [],
   "source": [
    "df_salaries"
   ]
  },
  {
   "cell_type": "code",
   "execution_count": null,
   "metadata": {
    "scrolled": true
   },
   "outputs": [],
   "source": [
    "df_salaries[\"Jobs\"]=df_salaries[\"Jobs\"].apply(lambda x: re.sub(\"\\sis\", \"\", x))"
   ]
  },
  {
   "cell_type": "code",
   "execution_count": null,
   "metadata": {
    "scrolled": true
   },
   "outputs": [],
   "source": [
    "df_salaries"
   ]
  },
  {
   "cell_type": "code",
   "execution_count": null,
   "metadata": {},
   "outputs": [],
   "source": [
    "country_table = pd.DataFrame([\"Spain\", \"France\", \"Germany\", \"Kingdom\", \"States\"])"
   ]
  },
  {
   "cell_type": "code",
   "execution_count": null,
   "metadata": {
    "scrolled": true
   },
   "outputs": [],
   "source": [
    "country_table = country_table.reset_index()"
   ]
  },
  {
   "cell_type": "code",
   "execution_count": null,
   "metadata": {},
   "outputs": [],
   "source": [
    "country_table"
   ]
  },
  {
   "cell_type": "code",
   "execution_count": null,
   "metadata": {},
   "outputs": [],
   "source": [
    "country_table.columns = (\"country_id\", \"country\")"
   ]
  },
  {
   "cell_type": "code",
   "execution_count": null,
   "metadata": {},
   "outputs": [],
   "source": [
    "country_table"
   ]
  },
  {
   "cell_type": "code",
   "execution_count": null,
   "metadata": {},
   "outputs": [],
   "source": [
    "df_salaries.to_csv(\"df_salaries.csv\")"
   ]
  },
  {
   "cell_type": "code",
   "execution_count": null,
   "metadata": {},
   "outputs": [],
   "source": [
    "df_salaries = df_salaries.merge(country_table, left_on=\"Country\", right_on=\"country\")"
   ]
  },
  {
   "cell_type": "code",
   "execution_count": null,
   "metadata": {},
   "outputs": [],
   "source": [
    "df_salaries"
   ]
  },
  {
   "cell_type": "code",
   "execution_count": null,
   "metadata": {},
   "outputs": [],
   "source": [
    "df_salaries_cleaned = df_salaries.drop(columns=[\"Country\", \"country\"], axis=1)"
   ]
  },
  {
   "cell_type": "code",
   "execution_count": null,
   "metadata": {},
   "outputs": [],
   "source": [
    "df_salaries_cleaned.to_csv(\"df_salaries_cleaned.csv\")"
   ]
  },
  {
   "cell_type": "code",
   "execution_count": null,
   "metadata": {},
   "outputs": [],
   "source": [
    "df_salaries_cleaned = pd.read_csv(\"df_salaries_cleaned.csv\")[[\"Jobs\", \"Salary\", \"country_id\"]]"
   ]
  },
  {
   "cell_type": "code",
   "execution_count": null,
   "metadata": {
    "scrolled": true
   },
   "outputs": [],
   "source": [
    "country_table[\"country\"] = country_table[\"country\"].apply(lambda x: re.sub(\"Kingdom\",\"United Kingdom\", x))"
   ]
  },
  {
   "cell_type": "code",
   "execution_count": null,
   "metadata": {},
   "outputs": [],
   "source": [
    "country_table"
   ]
  },
  {
   "cell_type": "code",
   "execution_count": null,
   "metadata": {},
   "outputs": [],
   "source": [
    "country_table[\"country\"] = country_table[\"country\"].apply(lambda x: re.sub(\"States\",\"United States\", x))"
   ]
  },
  {
   "cell_type": "code",
   "execution_count": null,
   "metadata": {},
   "outputs": [],
   "source": [
    "country_table"
   ]
  },
  {
   "cell_type": "code",
   "execution_count": null,
   "metadata": {},
   "outputs": [],
   "source": [
    "country_table.to_csv(\"df_country_cleaned.csv\")"
   ]
  },
  {
   "cell_type": "code",
   "execution_count": null,
   "metadata": {},
   "outputs": [],
   "source": []
  },
  {
   "cell_type": "code",
   "execution_count": null,
   "metadata": {},
   "outputs": [],
   "source": [
    "# JOB TABLE"
   ]
  },
  {
   "cell_type": "code",
   "execution_count": null,
   "metadata": {},
   "outputs": [],
   "source": [
    "job_table = pd.DataFrame(list(set(df_salaries_cleaned[\"Jobs\"])))"
   ]
  },
  {
   "cell_type": "code",
   "execution_count": null,
   "metadata": {},
   "outputs": [],
   "source": [
    "job_table = job_table.reset_index()"
   ]
  },
  {
   "cell_type": "code",
   "execution_count": null,
   "metadata": {},
   "outputs": [],
   "source": [
    "job_table.columns = (\"job_id\", \"job\")"
   ]
  },
  {
   "cell_type": "code",
   "execution_count": null,
   "metadata": {},
   "outputs": [],
   "source": [
    "df_salaries_cleaned = df_salaries_cleaned.merge(job_table, left_on=\"Jobs\", right_on=\"job\")"
   ]
  },
  {
   "cell_type": "code",
   "execution_count": null,
   "metadata": {},
   "outputs": [],
   "source": [
    "df_salaries_cleaned = df_salaries_cleaned.drop(columns=[\"Jobs\", \"job\"], axis=1)"
   ]
  },
  {
   "cell_type": "code",
   "execution_count": null,
   "metadata": {},
   "outputs": [],
   "source": [
    "df_salaries_cleaned.to_csv(\"df_salaries_cleaned.csv\")"
   ]
  },
  {
   "cell_type": "code",
   "execution_count": null,
   "metadata": {},
   "outputs": [],
   "source": [
    "job_table.to_csv(\"df_job_cleaned.csv\")"
   ]
  },
  {
   "cell_type": "code",
   "execution_count": null,
   "metadata": {},
   "outputs": [],
   "source": []
  },
  {
   "cell_type": "code",
   "execution_count": null,
   "metadata": {
    "scrolled": true
   },
   "outputs": [],
   "source": [
    "df_country = pd.read_csv(\"df_country_cleaned.csv\")[[\"country_id\", \"country\"]]"
   ]
  },
  {
   "cell_type": "code",
   "execution_count": null,
   "metadata": {},
   "outputs": [],
   "source": [
    "df_country"
   ]
  },
  {
   "cell_type": "code",
   "execution_count": null,
   "metadata": {},
   "outputs": [],
   "source": [
    "cost_quality_table = pd.read_csv(\"Avg_and_quality.csv\")[[\"Country\", \"Average living cost\", \"Quality of Life Index\"]]"
   ]
  },
  {
   "cell_type": "code",
   "execution_count": null,
   "metadata": {},
   "outputs": [],
   "source": [
    "cost_quality_table"
   ]
  },
  {
   "cell_type": "code",
   "execution_count": null,
   "metadata": {},
   "outputs": [],
   "source": [
    "cost_quality_cleaned = cost_quality_table.merge(df_country, left_on=\"Country\", right_on=\"country\")"
   ]
  },
  {
   "cell_type": "code",
   "execution_count": null,
   "metadata": {},
   "outputs": [],
   "source": [
    "cost_quality_cleaned = cost_quality_cleaned.drop(columns=[\"Country\", \"country\"], axis=1)"
   ]
  },
  {
   "cell_type": "code",
   "execution_count": null,
   "metadata": {},
   "outputs": [],
   "source": [
    "cost_quality_cleaned.columns = (\"avg_living_costs\", \"quality_life_i\", \"country_id\")"
   ]
  },
  {
   "cell_type": "code",
   "execution_count": null,
   "metadata": {
    "scrolled": true
   },
   "outputs": [],
   "source": [
    "cost_quality_cleaned"
   ]
  },
  {
   "cell_type": "code",
   "execution_count": null,
   "metadata": {},
   "outputs": [],
   "source": [
    "df"
   ]
  },
  {
   "cell_type": "code",
   "execution_count": null,
   "metadata": {
    "scrolled": true
   },
   "outputs": [],
   "source": [
    "cost_quality_cleaned.to_csv(\"df_cost_quality_cleaned.csv\")"
   ]
  },
  {
   "cell_type": "code",
   "execution_count": null,
   "metadata": {},
   "outputs": [],
   "source": [
    "cost_quality_cleaned.to_csv(\"df_cost_quality_cleaned.csv\")"
   ]
  },
  {
   "cell_type": "code",
   "execution_count": 3,
   "metadata": {},
   "outputs": [
    {
     "data": {
      "text/html": [
       "<div>\n",
       "<style scoped>\n",
       "    .dataframe tbody tr th:only-of-type {\n",
       "        vertical-align: middle;\n",
       "    }\n",
       "\n",
       "    .dataframe tbody tr th {\n",
       "        vertical-align: top;\n",
       "    }\n",
       "\n",
       "    .dataframe thead th {\n",
       "        text-align: right;\n",
       "    }\n",
       "</style>\n",
       "<table border=\"1\" class=\"dataframe\">\n",
       "  <thead>\n",
       "    <tr style=\"text-align: right;\">\n",
       "      <th></th>\n",
       "      <th>id</th>\n",
       "      <th>Salary</th>\n",
       "      <th>country_id</th>\n",
       "      <th>job_id</th>\n",
       "    </tr>\n",
       "  </thead>\n",
       "  <tbody>\n",
       "    <tr>\n",
       "      <th>0</th>\n",
       "      <td>0</td>\n",
       "      <td>€31,195</td>\n",
       "      <td>0</td>\n",
       "      <td>1</td>\n",
       "    </tr>\n",
       "    <tr>\n",
       "      <th>1</th>\n",
       "      <td>1</td>\n",
       "      <td>€50,399</td>\n",
       "      <td>2</td>\n",
       "      <td>1</td>\n",
       "    </tr>\n",
       "    <tr>\n",
       "      <th>2</th>\n",
       "      <td>2</td>\n",
       "      <td>€41,286</td>\n",
       "      <td>1</td>\n",
       "      <td>1</td>\n",
       "    </tr>\n",
       "    <tr>\n",
       "      <th>3</th>\n",
       "      <td>3</td>\n",
       "      <td>£30,126</td>\n",
       "      <td>3</td>\n",
       "      <td>1</td>\n",
       "    </tr>\n",
       "    <tr>\n",
       "      <th>4</th>\n",
       "      <td>4</td>\n",
       "      <td>$67,377</td>\n",
       "      <td>4</td>\n",
       "      <td>1</td>\n",
       "    </tr>\n",
       "  </tbody>\n",
       "</table>\n",
       "</div>"
      ],
      "text/plain": [
       "   id   Salary  country_id  job_id\n",
       "0   0  €31,195           0       1\n",
       "1   1  €50,399           2       1\n",
       "2   2  €41,286           1       1\n",
       "3   3  £30,126           3       1\n",
       "4   4  $67,377           4       1"
      ]
     },
     "execution_count": 3,
     "metadata": {},
     "output_type": "execute_result"
    }
   ],
   "source": [
    "# Cleaning of the salary data (remove currency sign and remove \",\")\n",
    "df_salaries_corrected = pd.read_csv(\"df_salaries_cleaned.csv\")\n",
    "df_salaries_corrected.head()"
   ]
  },
  {
   "cell_type": "code",
   "execution_count": 4,
   "metadata": {},
   "outputs": [],
   "source": [
    "df_salaries_corrected[\"Salary\"]=df_salaries_corrected[\"Salary\"].apply(lambda x: re.sub(\"€|£|,|\\$\", \"\", x))"
   ]
  },
  {
   "cell_type": "code",
   "execution_count": 5,
   "metadata": {},
   "outputs": [
    {
     "data": {
      "text/html": [
       "<div>\n",
       "<style scoped>\n",
       "    .dataframe tbody tr th:only-of-type {\n",
       "        vertical-align: middle;\n",
       "    }\n",
       "\n",
       "    .dataframe tbody tr th {\n",
       "        vertical-align: top;\n",
       "    }\n",
       "\n",
       "    .dataframe thead th {\n",
       "        text-align: right;\n",
       "    }\n",
       "</style>\n",
       "<table border=\"1\" class=\"dataframe\">\n",
       "  <thead>\n",
       "    <tr style=\"text-align: right;\">\n",
       "      <th></th>\n",
       "      <th>id</th>\n",
       "      <th>Salary</th>\n",
       "      <th>country_id</th>\n",
       "      <th>job_id</th>\n",
       "    </tr>\n",
       "  </thead>\n",
       "  <tbody>\n",
       "    <tr>\n",
       "      <th>0</th>\n",
       "      <td>0</td>\n",
       "      <td>31195</td>\n",
       "      <td>0</td>\n",
       "      <td>1</td>\n",
       "    </tr>\n",
       "    <tr>\n",
       "      <th>1</th>\n",
       "      <td>1</td>\n",
       "      <td>50399</td>\n",
       "      <td>2</td>\n",
       "      <td>1</td>\n",
       "    </tr>\n",
       "    <tr>\n",
       "      <th>2</th>\n",
       "      <td>2</td>\n",
       "      <td>41286</td>\n",
       "      <td>1</td>\n",
       "      <td>1</td>\n",
       "    </tr>\n",
       "    <tr>\n",
       "      <th>3</th>\n",
       "      <td>3</td>\n",
       "      <td>30126</td>\n",
       "      <td>3</td>\n",
       "      <td>1</td>\n",
       "    </tr>\n",
       "    <tr>\n",
       "      <th>4</th>\n",
       "      <td>4</td>\n",
       "      <td>67377</td>\n",
       "      <td>4</td>\n",
       "      <td>1</td>\n",
       "    </tr>\n",
       "  </tbody>\n",
       "</table>\n",
       "</div>"
      ],
      "text/plain": [
       "   id Salary  country_id  job_id\n",
       "0   0  31195           0       1\n",
       "1   1  50399           2       1\n",
       "2   2  41286           1       1\n",
       "3   3  30126           3       1\n",
       "4   4  67377           4       1"
      ]
     },
     "execution_count": 5,
     "metadata": {},
     "output_type": "execute_result"
    }
   ],
   "source": [
    "df_salaries_corrected.head()"
   ]
  },
  {
   "cell_type": "code",
   "execution_count": 6,
   "metadata": {},
   "outputs": [
    {
     "data": {
      "text/plain": [
       "id             int64\n",
       "Salary        object\n",
       "country_id     int64\n",
       "job_id         int64\n",
       "dtype: object"
      ]
     },
     "execution_count": 6,
     "metadata": {},
     "output_type": "execute_result"
    }
   ],
   "source": [
    "# Check the type of the dataframe\n",
    "df_salaries_corrected.dtypes"
   ]
  },
  {
   "cell_type": "code",
   "execution_count": 7,
   "metadata": {},
   "outputs": [],
   "source": [
    "# Change the type of the Salary column and check it is now Integer\n",
    "df_salaries_corrected = df_salaries_corrected.astype({\"Salary\": int})"
   ]
  },
  {
   "cell_type": "code",
   "execution_count": 8,
   "metadata": {},
   "outputs": [
    {
     "data": {
      "text/plain": [
       "id            int64\n",
       "Salary        int64\n",
       "country_id    int64\n",
       "job_id        int64\n",
       "dtype: object"
      ]
     },
     "execution_count": 8,
     "metadata": {},
     "output_type": "execute_result"
    }
   ],
   "source": [
    "df_salaries_corrected.dtypes"
   ]
  },
  {
   "cell_type": "code",
   "execution_count": 9,
   "metadata": {},
   "outputs": [
    {
     "data": {
      "text/html": [
       "<div>\n",
       "<style scoped>\n",
       "    .dataframe tbody tr th:only-of-type {\n",
       "        vertical-align: middle;\n",
       "    }\n",
       "\n",
       "    .dataframe tbody tr th {\n",
       "        vertical-align: top;\n",
       "    }\n",
       "\n",
       "    .dataframe thead th {\n",
       "        text-align: right;\n",
       "    }\n",
       "</style>\n",
       "<table border=\"1\" class=\"dataframe\">\n",
       "  <thead>\n",
       "    <tr style=\"text-align: right;\">\n",
       "      <th></th>\n",
       "      <th>id</th>\n",
       "      <th>Salary</th>\n",
       "      <th>country_id</th>\n",
       "      <th>job_id</th>\n",
       "    </tr>\n",
       "  </thead>\n",
       "  <tbody>\n",
       "    <tr>\n",
       "      <th>0</th>\n",
       "      <td>0</td>\n",
       "      <td>31195</td>\n",
       "      <td>0</td>\n",
       "      <td>1</td>\n",
       "    </tr>\n",
       "    <tr>\n",
       "      <th>1</th>\n",
       "      <td>1</td>\n",
       "      <td>50399</td>\n",
       "      <td>2</td>\n",
       "      <td>1</td>\n",
       "    </tr>\n",
       "    <tr>\n",
       "      <th>2</th>\n",
       "      <td>2</td>\n",
       "      <td>41286</td>\n",
       "      <td>1</td>\n",
       "      <td>1</td>\n",
       "    </tr>\n",
       "    <tr>\n",
       "      <th>3</th>\n",
       "      <td>3</td>\n",
       "      <td>30126</td>\n",
       "      <td>3</td>\n",
       "      <td>1</td>\n",
       "    </tr>\n",
       "    <tr>\n",
       "      <th>4</th>\n",
       "      <td>4</td>\n",
       "      <td>67377</td>\n",
       "      <td>4</td>\n",
       "      <td>1</td>\n",
       "    </tr>\n",
       "  </tbody>\n",
       "</table>\n",
       "</div>"
      ],
      "text/plain": [
       "   id  Salary  country_id  job_id\n",
       "0   0   31195           0       1\n",
       "1   1   50399           2       1\n",
       "2   2   41286           1       1\n",
       "3   3   30126           3       1\n",
       "4   4   67377           4       1"
      ]
     },
     "execution_count": 9,
     "metadata": {},
     "output_type": "execute_result"
    }
   ],
   "source": [
    "df_salaries_corrected.head()"
   ]
  },
  {
   "cell_type": "code",
   "execution_count": 10,
   "metadata": {},
   "outputs": [],
   "source": [
    "# Convert salary from $ to € by multiplying by 0.89154\n",
    "df_salaries_corrected[\"Salary\"] = df_salaries_corrected[[\"Salary\", \"country_id\"]].apply(lambda x: x[0]*0.89154 if x[1] == 4 else x, axis=1)"
   ]
  },
  {
   "cell_type": "code",
   "execution_count": 11,
   "metadata": {},
   "outputs": [
    {
     "data": {
      "text/html": [
       "<div>\n",
       "<style scoped>\n",
       "    .dataframe tbody tr th:only-of-type {\n",
       "        vertical-align: middle;\n",
       "    }\n",
       "\n",
       "    .dataframe tbody tr th {\n",
       "        vertical-align: top;\n",
       "    }\n",
       "\n",
       "    .dataframe thead th {\n",
       "        text-align: right;\n",
       "    }\n",
       "</style>\n",
       "<table border=\"1\" class=\"dataframe\">\n",
       "  <thead>\n",
       "    <tr style=\"text-align: right;\">\n",
       "      <th></th>\n",
       "      <th>id</th>\n",
       "      <th>Salary</th>\n",
       "      <th>country_id</th>\n",
       "      <th>job_id</th>\n",
       "    </tr>\n",
       "  </thead>\n",
       "  <tbody>\n",
       "    <tr>\n",
       "      <th>0</th>\n",
       "      <td>0</td>\n",
       "      <td>31195.00000</td>\n",
       "      <td>0</td>\n",
       "      <td>1</td>\n",
       "    </tr>\n",
       "    <tr>\n",
       "      <th>1</th>\n",
       "      <td>1</td>\n",
       "      <td>50399.00000</td>\n",
       "      <td>2</td>\n",
       "      <td>1</td>\n",
       "    </tr>\n",
       "    <tr>\n",
       "      <th>2</th>\n",
       "      <td>2</td>\n",
       "      <td>41286.00000</td>\n",
       "      <td>1</td>\n",
       "      <td>1</td>\n",
       "    </tr>\n",
       "    <tr>\n",
       "      <th>3</th>\n",
       "      <td>3</td>\n",
       "      <td>30126.00000</td>\n",
       "      <td>3</td>\n",
       "      <td>1</td>\n",
       "    </tr>\n",
       "    <tr>\n",
       "      <th>4</th>\n",
       "      <td>4</td>\n",
       "      <td>60069.29058</td>\n",
       "      <td>4</td>\n",
       "      <td>1</td>\n",
       "    </tr>\n",
       "  </tbody>\n",
       "</table>\n",
       "</div>"
      ],
      "text/plain": [
       "   id       Salary  country_id  job_id\n",
       "0   0  31195.00000           0       1\n",
       "1   1  50399.00000           2       1\n",
       "2   2  41286.00000           1       1\n",
       "3   3  30126.00000           3       1\n",
       "4   4  60069.29058           4       1"
      ]
     },
     "execution_count": 11,
     "metadata": {},
     "output_type": "execute_result"
    }
   ],
   "source": [
    "df_salaries_corrected.head()"
   ]
  },
  {
   "cell_type": "code",
   "execution_count": 12,
   "metadata": {},
   "outputs": [],
   "source": [
    "# Convert salary from $ to € by multiplying by 1.107\n",
    "df_salaries_corrected[\"Salary\"] = df_salaries_corrected[[\"Salary\", \"country_id\"]].apply(lambda x: x[0]*1.107 if x[1] == 3 else x, axis=1)"
   ]
  },
  {
   "cell_type": "code",
   "execution_count": 13,
   "metadata": {},
   "outputs": [
    {
     "data": {
      "text/html": [
       "<div>\n",
       "<style scoped>\n",
       "    .dataframe tbody tr th:only-of-type {\n",
       "        vertical-align: middle;\n",
       "    }\n",
       "\n",
       "    .dataframe tbody tr th {\n",
       "        vertical-align: top;\n",
       "    }\n",
       "\n",
       "    .dataframe thead th {\n",
       "        text-align: right;\n",
       "    }\n",
       "</style>\n",
       "<table border=\"1\" class=\"dataframe\">\n",
       "  <thead>\n",
       "    <tr style=\"text-align: right;\">\n",
       "      <th></th>\n",
       "      <th>id</th>\n",
       "      <th>Salary</th>\n",
       "      <th>country_id</th>\n",
       "      <th>job_id</th>\n",
       "    </tr>\n",
       "  </thead>\n",
       "  <tbody>\n",
       "    <tr>\n",
       "      <th>0</th>\n",
       "      <td>0</td>\n",
       "      <td>31195.00000</td>\n",
       "      <td>0</td>\n",
       "      <td>1</td>\n",
       "    </tr>\n",
       "    <tr>\n",
       "      <th>1</th>\n",
       "      <td>1</td>\n",
       "      <td>50399.00000</td>\n",
       "      <td>2</td>\n",
       "      <td>1</td>\n",
       "    </tr>\n",
       "    <tr>\n",
       "      <th>2</th>\n",
       "      <td>2</td>\n",
       "      <td>41286.00000</td>\n",
       "      <td>1</td>\n",
       "      <td>1</td>\n",
       "    </tr>\n",
       "    <tr>\n",
       "      <th>3</th>\n",
       "      <td>3</td>\n",
       "      <td>33349.48200</td>\n",
       "      <td>3</td>\n",
       "      <td>1</td>\n",
       "    </tr>\n",
       "    <tr>\n",
       "      <th>4</th>\n",
       "      <td>4</td>\n",
       "      <td>60069.29058</td>\n",
       "      <td>4</td>\n",
       "      <td>1</td>\n",
       "    </tr>\n",
       "  </tbody>\n",
       "</table>\n",
       "</div>"
      ],
      "text/plain": [
       "   id       Salary  country_id  job_id\n",
       "0   0  31195.00000           0       1\n",
       "1   1  50399.00000           2       1\n",
       "2   2  41286.00000           1       1\n",
       "3   3  33349.48200           3       1\n",
       "4   4  60069.29058           4       1"
      ]
     },
     "execution_count": 13,
     "metadata": {},
     "output_type": "execute_result"
    }
   ],
   "source": [
    "df_salaries_corrected.head()"
   ]
  },
  {
   "cell_type": "code",
   "execution_count": null,
   "metadata": {},
   "outputs": [],
   "source": [
    "df_salaries_corrected.to_csv(\"df_salaries_corrected.csv\")"
   ]
  },
  {
   "cell_type": "code",
   "execution_count": null,
   "metadata": {},
   "outputs": [],
   "source": []
  },
  {
   "cell_type": "code",
   "execution_count": null,
   "metadata": {},
   "outputs": [],
   "source": []
  },
  {
   "cell_type": "code",
   "execution_count": null,
   "metadata": {},
   "outputs": [],
   "source": []
  },
  {
   "cell_type": "code",
   "execution_count": null,
   "metadata": {},
   "outputs": [],
   "source": []
  },
  {
   "cell_type": "code",
   "execution_count": null,
   "metadata": {},
   "outputs": [],
   "source": []
  },
  {
   "cell_type": "code",
   "execution_count": null,
   "metadata": {},
   "outputs": [],
   "source": []
  },
  {
   "cell_type": "code",
   "execution_count": null,
   "metadata": {},
   "outputs": [],
   "source": []
  },
  {
   "cell_type": "code",
   "execution_count": null,
   "metadata": {},
   "outputs": [],
   "source": []
  }
 ],
 "metadata": {
  "kernelspec": {
   "display_name": "Python 3",
   "language": "python",
   "name": "python3"
  },
  "language_info": {
   "codemirror_mode": {
    "name": "ipython",
    "version": 3
   },
   "file_extension": ".py",
   "mimetype": "text/x-python",
   "name": "python",
   "nbconvert_exporter": "python",
   "pygments_lexer": "ipython3",
   "version": "3.7.3"
  }
 },
 "nbformat": 4,
 "nbformat_minor": 2
}
